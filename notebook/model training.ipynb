{
 "cells": [
  {
   "cell_type": "markdown",
   "metadata": {},
   "source": [
    "## Model Training"
   ]
  },
  {
   "cell_type": "markdown",
   "metadata": {},
   "source": [
    "#### 1.1 Import Data and Required Packages\n",
    "##### Importing Pandas, Numpy, Matplotlib, Seaborn and Warings Library."
   ]
  },
  {
   "cell_type": "code",
   "execution_count": 10,
   "metadata": {},
   "outputs": [],
   "source": [
    "# Basic Import\n",
    "import numpy as np\n",
    "import pandas as pd\n",
    "import matplotlib.pyplot as plt \n",
    "import seaborn as sns\n",
    "import os\n",
    "# Modelling\n",
    "from sklearn.metrics import accuracy_score, classification_report, confusion_matrix, roc_auc_score, roc_curve\n",
    "from sklearn.model_selection import train_test_split, RandomizedSearchCV\n",
    "from sklearn.neighbors import KNeighborsClassifier\n",
    "from sklearn.tree import DecisionTreeClassifier\n",
    "from sklearn.ensemble import RandomForestClassifier, AdaBoostClassifier, GradientBoostingClassifier\n",
    "from sklearn.svm import SVC\n",
    "from sklearn.linear_model import LogisticRegression\n",
    "from sklearn.naive_bayes import GaussianNB\n",
    "from sklearn.preprocessing import StandardScaler, LabelEncoder\n",
    "from xgboost import XGBClassifier\n",
    "from catboost import CatBoostClassifier\n",
    "from lightgbm import LGBMClassifier\n",
    "import warnings\n",
    "warnings.filterwarnings('ignore')\n"
   ]
  },
  {
   "cell_type": "markdown",
   "metadata": {},
   "source": [
    "#### Import the CSV Data as Pandas DataFrame"
   ]
  },
  {
   "cell_type": "code",
   "execution_count": 43,
   "metadata": {},
   "outputs": [],
   "source": [
    "file_path = os.path.join('data', 'filtered_data.csv')\n",
    "df = pd .read_csv(file_path)"
   ]
  },
  {
   "cell_type": "markdown",
   "metadata": {},
   "source": [
    "#### Show Top 5 Records"
   ]
  },
  {
   "cell_type": "code",
   "execution_count": 44,
   "metadata": {},
   "outputs": [
    {
     "data": {
      "text/html": [
       "<div>\n",
       "<style scoped>\n",
       "    .dataframe tbody tr th:only-of-type {\n",
       "        vertical-align: middle;\n",
       "    }\n",
       "\n",
       "    .dataframe tbody tr th {\n",
       "        vertical-align: top;\n",
       "    }\n",
       "\n",
       "    .dataframe thead th {\n",
       "        text-align: right;\n",
       "    }\n",
       "</style>\n",
       "<table border=\"1\" class=\"dataframe\">\n",
       "  <thead>\n",
       "    <tr style=\"text-align: right;\">\n",
       "      <th></th>\n",
       "      <th>Location</th>\n",
       "      <th>Latitude</th>\n",
       "      <th>Longitude</th>\n",
       "      <th>Area_ID</th>\n",
       "      <th>Reporting_District_no</th>\n",
       "      <th>Part 1-2</th>\n",
       "      <th>Victim_Age</th>\n",
       "      <th>Victim_Sex</th>\n",
       "      <th>Victim_Descent</th>\n",
       "      <th>Premise_Code</th>\n",
       "      <th>...</th>\n",
       "      <th>Status</th>\n",
       "      <th>Crime_Category</th>\n",
       "      <th>Hours_Occurred</th>\n",
       "      <th>Reported_Year</th>\n",
       "      <th>Reported_Month</th>\n",
       "      <th>Reported_Weekday</th>\n",
       "      <th>Occurred_Day</th>\n",
       "      <th>Occurred_Weekday</th>\n",
       "      <th>Modus_Operandi_num_code</th>\n",
       "      <th>Time_Difference_Log</th>\n",
       "    </tr>\n",
       "  </thead>\n",
       "  <tbody>\n",
       "    <tr>\n",
       "      <th>0</th>\n",
       "      <td>4500    CARPENTER                    AV</td>\n",
       "      <td>34.1522</td>\n",
       "      <td>-118.3910</td>\n",
       "      <td>15</td>\n",
       "      <td>1563</td>\n",
       "      <td>1</td>\n",
       "      <td>75</td>\n",
       "      <td>M</td>\n",
       "      <td>W</td>\n",
       "      <td>101</td>\n",
       "      <td>...</td>\n",
       "      <td>IC</td>\n",
       "      <td>Property Crimes</td>\n",
       "      <td>18.000000</td>\n",
       "      <td>2020</td>\n",
       "      <td>3</td>\n",
       "      <td>0</td>\n",
       "      <td>6</td>\n",
       "      <td>4</td>\n",
       "      <td>1</td>\n",
       "      <td>4.290459</td>\n",
       "    </tr>\n",
       "    <tr>\n",
       "      <th>1</th>\n",
       "      <td>45TH                         ST</td>\n",
       "      <td>34.0028</td>\n",
       "      <td>-118.2391</td>\n",
       "      <td>13</td>\n",
       "      <td>1367</td>\n",
       "      <td>1</td>\n",
       "      <td>41</td>\n",
       "      <td>M</td>\n",
       "      <td>H</td>\n",
       "      <td>216</td>\n",
       "      <td>...</td>\n",
       "      <td>IC</td>\n",
       "      <td>Property Crimes</td>\n",
       "      <td>13.750000</td>\n",
       "      <td>2020</td>\n",
       "      <td>2</td>\n",
       "      <td>3</td>\n",
       "      <td>27</td>\n",
       "      <td>3</td>\n",
       "      <td>8</td>\n",
       "      <td>0.000000</td>\n",
       "    </tr>\n",
       "    <tr>\n",
       "      <th>2</th>\n",
       "      <td>600 E  MARTIN LUTHER KING JR        BL</td>\n",
       "      <td>34.0111</td>\n",
       "      <td>-118.2653</td>\n",
       "      <td>13</td>\n",
       "      <td>1343</td>\n",
       "      <td>2</td>\n",
       "      <td>67</td>\n",
       "      <td>M</td>\n",
       "      <td>B</td>\n",
       "      <td>501</td>\n",
       "      <td>...</td>\n",
       "      <td>IC</td>\n",
       "      <td>Property Crimes</td>\n",
       "      <td>6.083333</td>\n",
       "      <td>2020</td>\n",
       "      <td>8</td>\n",
       "      <td>4</td>\n",
       "      <td>21</td>\n",
       "      <td>4</td>\n",
       "      <td>2</td>\n",
       "      <td>0.000000</td>\n",
       "    </tr>\n",
       "    <tr>\n",
       "      <th>3</th>\n",
       "      <td>14900    ORO GRANDE                   ST</td>\n",
       "      <td>34.2953</td>\n",
       "      <td>-118.4590</td>\n",
       "      <td>19</td>\n",
       "      <td>1924</td>\n",
       "      <td>1</td>\n",
       "      <td>61</td>\n",
       "      <td>M</td>\n",
       "      <td>H</td>\n",
       "      <td>101</td>\n",
       "      <td>...</td>\n",
       "      <td>IC</td>\n",
       "      <td>Property Crimes</td>\n",
       "      <td>18.000000</td>\n",
       "      <td>2020</td>\n",
       "      <td>11</td>\n",
       "      <td>6</td>\n",
       "      <td>6</td>\n",
       "      <td>4</td>\n",
       "      <td>2</td>\n",
       "      <td>3.891820</td>\n",
       "    </tr>\n",
       "    <tr>\n",
       "      <th>4</th>\n",
       "      <td>7100 S  VERMONT                      AV</td>\n",
       "      <td>33.9787</td>\n",
       "      <td>-118.2918</td>\n",
       "      <td>12</td>\n",
       "      <td>1245</td>\n",
       "      <td>1</td>\n",
       "      <td>0</td>\n",
       "      <td>X</td>\n",
       "      <td>X</td>\n",
       "      <td>401</td>\n",
       "      <td>...</td>\n",
       "      <td>IC</td>\n",
       "      <td>Property Crimes</td>\n",
       "      <td>11.500000</td>\n",
       "      <td>2020</td>\n",
       "      <td>2</td>\n",
       "      <td>1</td>\n",
       "      <td>25</td>\n",
       "      <td>1</td>\n",
       "      <td>6</td>\n",
       "      <td>0.000000</td>\n",
       "    </tr>\n",
       "  </tbody>\n",
       "</table>\n",
       "<p>5 rows × 21 columns</p>\n",
       "</div>"
      ],
      "text/plain": [
       "                                   Location  Latitude  Longitude  Area_ID  \\\n",
       "0   4500    CARPENTER                    AV   34.1522  -118.3910       15   \n",
       "1           45TH                         ST   34.0028  -118.2391       13   \n",
       "2    600 E  MARTIN LUTHER KING JR        BL   34.0111  -118.2653       13   \n",
       "3  14900    ORO GRANDE                   ST   34.2953  -118.4590       19   \n",
       "4   7100 S  VERMONT                      AV   33.9787  -118.2918       12   \n",
       "\n",
       "   Reporting_District_no  Part 1-2  Victim_Age Victim_Sex Victim_Descent  \\\n",
       "0                   1563         1          75          M              W   \n",
       "1                   1367         1          41          M              H   \n",
       "2                   1343         2          67          M              B   \n",
       "3                   1924         1          61          M              H   \n",
       "4                   1245         1           0          X              X   \n",
       "\n",
       "   Premise_Code  ...  Status   Crime_Category Hours_Occurred  Reported_Year  \\\n",
       "0           101  ...      IC  Property Crimes      18.000000           2020   \n",
       "1           216  ...      IC  Property Crimes      13.750000           2020   \n",
       "2           501  ...      IC  Property Crimes       6.083333           2020   \n",
       "3           101  ...      IC  Property Crimes      18.000000           2020   \n",
       "4           401  ...      IC  Property Crimes      11.500000           2020   \n",
       "\n",
       "   Reported_Month  Reported_Weekday  Occurred_Day  Occurred_Weekday  \\\n",
       "0               3                 0             6                 4   \n",
       "1               2                 3            27                 3   \n",
       "2               8                 4            21                 4   \n",
       "3              11                 6             6                 4   \n",
       "4               2                 1            25                 1   \n",
       "\n",
       "   Modus_Operandi_num_code  Time_Difference_Log  \n",
       "0                        1             4.290459  \n",
       "1                        8             0.000000  \n",
       "2                        2             0.000000  \n",
       "3                        2             3.891820  \n",
       "4                        6             0.000000  \n",
       "\n",
       "[5 rows x 21 columns]"
      ]
     },
     "execution_count": 44,
     "metadata": {},
     "output_type": "execute_result"
    }
   ],
   "source": [
    "df.head()"
   ]
  },
  {
   "cell_type": "code",
   "execution_count": 45,
   "metadata": {},
   "outputs": [
    {
     "name": "stdout",
     "output_type": "stream",
     "text": [
      "<class 'pandas.core.frame.DataFrame'>\n",
      "RangeIndex: 19903 entries, 0 to 19902\n",
      "Data columns (total 21 columns):\n",
      " #   Column                   Non-Null Count  Dtype  \n",
      "---  ------                   --------------  -----  \n",
      " 0   Location                 19903 non-null  object \n",
      " 1   Latitude                 19903 non-null  float64\n",
      " 2   Longitude                19903 non-null  float64\n",
      " 3   Area_ID                  19903 non-null  int64  \n",
      " 4   Reporting_District_no    19903 non-null  int64  \n",
      " 5   Part 1-2                 19903 non-null  int64  \n",
      " 6   Victim_Age               19903 non-null  int64  \n",
      " 7   Victim_Sex               19903 non-null  object \n",
      " 8   Victim_Descent           19903 non-null  object \n",
      " 9   Premise_Code             19903 non-null  int64  \n",
      " 10  Weapon_Used_Code         19903 non-null  float64\n",
      " 11  Status                   19903 non-null  object \n",
      " 12  Crime_Category           19903 non-null  object \n",
      " 13  Hours_Occurred           19903 non-null  float64\n",
      " 14  Reported_Year            19903 non-null  int64  \n",
      " 15  Reported_Month           19903 non-null  int64  \n",
      " 16  Reported_Weekday         19903 non-null  int64  \n",
      " 17  Occurred_Day             19903 non-null  int64  \n",
      " 18  Occurred_Weekday         19903 non-null  int64  \n",
      " 19  Modus_Operandi_num_code  19903 non-null  int64  \n",
      " 20  Time_Difference_Log      19903 non-null  float64\n",
      "dtypes: float64(5), int64(11), object(5)\n",
      "memory usage: 3.2+ MB\n"
     ]
    }
   ],
   "source": [
    "df.info()"
   ]
  },
  {
   "cell_type": "markdown",
   "metadata": {},
   "source": [
    "### Convert already encoded labels into float"
   ]
  },
  {
   "cell_type": "code",
   "execution_count": 49,
   "metadata": {},
   "outputs": [],
   "source": [
    "encoded_features=['Area_ID','Reporting_District_no','Part 1-2','Premise_Code','Weapon_Used_Code','Modus_Operandi_num_code']\n",
    "df[encoded_features]=df[encoded_features].astype(int)"
   ]
  },
  {
   "cell_type": "markdown",
   "metadata": {},
   "source": [
    "#### Preparing X and Y variables"
   ]
  },
  {
   "cell_type": "code",
   "execution_count": 50,
   "metadata": {},
   "outputs": [],
   "source": [
    "X=df.drop('Crime_Category',axis=1)"
   ]
  },
  {
   "cell_type": "code",
   "execution_count": 51,
   "metadata": {},
   "outputs": [
    {
     "name": "stdout",
     "output_type": "stream",
     "text": [
      "<class 'pandas.core.frame.DataFrame'>\n",
      "RangeIndex: 19903 entries, 0 to 19902\n",
      "Data columns (total 20 columns):\n",
      " #   Column                   Non-Null Count  Dtype  \n",
      "---  ------                   --------------  -----  \n",
      " 0   Location                 19903 non-null  object \n",
      " 1   Latitude                 19903 non-null  float64\n",
      " 2   Longitude                19903 non-null  float64\n",
      " 3   Area_ID                  19903 non-null  int32  \n",
      " 4   Reporting_District_no    19903 non-null  int32  \n",
      " 5   Part 1-2                 19903 non-null  int32  \n",
      " 6   Victim_Age               19903 non-null  int64  \n",
      " 7   Victim_Sex               19903 non-null  object \n",
      " 8   Victim_Descent           19903 non-null  object \n",
      " 9   Premise_Code             19903 non-null  int32  \n",
      " 10  Weapon_Used_Code         19903 non-null  int32  \n",
      " 11  Status                   19903 non-null  object \n",
      " 12  Hours_Occurred           19903 non-null  float64\n",
      " 13  Reported_Year            19903 non-null  int64  \n",
      " 14  Reported_Month           19903 non-null  int64  \n",
      " 15  Reported_Weekday         19903 non-null  int64  \n",
      " 16  Occurred_Day             19903 non-null  int64  \n",
      " 17  Occurred_Weekday         19903 non-null  int64  \n",
      " 18  Modus_Operandi_num_code  19903 non-null  int32  \n",
      " 19  Time_Difference_Log      19903 non-null  float64\n",
      "dtypes: float64(4), int32(6), int64(6), object(4)\n",
      "memory usage: 2.6+ MB\n"
     ]
    }
   ],
   "source": [
    "X.info()"
   ]
  }
 ],
 "metadata": {
  "kernelspec": {
   "display_name": "venv",
   "language": "python",
   "name": "python3"
  },
  "language_info": {
   "codemirror_mode": {
    "name": "ipython",
    "version": 3
   },
   "file_extension": ".py",
   "mimetype": "text/x-python",
   "name": "python",
   "nbconvert_exporter": "python",
   "pygments_lexer": "ipython3",
   "version": "3.10.4"
  }
 },
 "nbformat": 4,
 "nbformat_minor": 2
}
