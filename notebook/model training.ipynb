{
 "cells": [
  {
   "cell_type": "markdown",
   "metadata": {},
   "source": [
    "## Model Training"
   ]
  },
  {
   "cell_type": "markdown",
   "metadata": {},
   "source": [
    "#### 1.1 Import Data and Required Packages\n",
    "##### Importing Pandas, Numpy, Matplotlib, Seaborn and Warings Library."
   ]
  },
  {
   "cell_type": "code",
   "execution_count": 1,
   "metadata": {},
   "outputs": [],
   "source": [
    "# Basic Import\n",
    "import numpy as np\n",
    "import pandas as pd\n",
    "import matplotlib.pyplot as plt \n",
    "import seaborn as sns\n",
    "import os\n",
    "# Modelling\n",
    "from sklearn.metrics import accuracy_score, precision_score, recall_score, f1_score, confusion_matrix\n",
    "from sklearn.model_selection import train_test_split, RandomizedSearchCV\n",
    "from sklearn.neighbors import KNeighborsClassifier\n",
    "from sklearn.tree import DecisionTreeClassifier\n",
    "from sklearn.ensemble import RandomForestClassifier, AdaBoostClassifier\n",
    "from sklearn.linear_model import LogisticRegression\n",
    "from sklearn.naive_bayes import GaussianNB\n",
    "from sklearn.preprocessing import StandardScaler, OneHotEncoder\n",
    "from sklearn.compose import ColumnTransformer\n",
    "from sklearn.model_selection import train_test_split\n",
    "from xgboost import XGBClassifier\n",
    "from lightgbm import LGBMClassifier\n",
    "import warnings\n",
    "warnings.filterwarnings('ignore')\n"
   ]
  },
  {
   "cell_type": "markdown",
   "metadata": {},
   "source": [
    "#### Import the CSV Data as Pandas DataFrame"
   ]
  },
  {
   "cell_type": "code",
   "execution_count": 2,
   "metadata": {},
   "outputs": [],
   "source": [
    "file_path = os.path.join('data', 'filtered_data.csv')\n",
    "df = pd .read_csv(file_path)"
   ]
  },
  {
   "cell_type": "markdown",
   "metadata": {},
   "source": [
    "#### Show Top 5 Records"
   ]
  },
  {
   "cell_type": "code",
   "execution_count": 3,
   "metadata": {},
   "outputs": [
    {
     "data": {
      "text/html": [
       "<div>\n",
       "<style scoped>\n",
       "    .dataframe tbody tr th:only-of-type {\n",
       "        vertical-align: middle;\n",
       "    }\n",
       "\n",
       "    .dataframe tbody tr th {\n",
       "        vertical-align: top;\n",
       "    }\n",
       "\n",
       "    .dataframe thead th {\n",
       "        text-align: right;\n",
       "    }\n",
       "</style>\n",
       "<table border=\"1\" class=\"dataframe\">\n",
       "  <thead>\n",
       "    <tr style=\"text-align: right;\">\n",
       "      <th></th>\n",
       "      <th>Location</th>\n",
       "      <th>Latitude</th>\n",
       "      <th>Longitude</th>\n",
       "      <th>Area_ID</th>\n",
       "      <th>Reporting_District_no</th>\n",
       "      <th>Part 1-2</th>\n",
       "      <th>Victim_Age</th>\n",
       "      <th>Victim_Sex</th>\n",
       "      <th>Victim_Descent</th>\n",
       "      <th>Premise_Code</th>\n",
       "      <th>...</th>\n",
       "      <th>Status</th>\n",
       "      <th>Crime_Category</th>\n",
       "      <th>Hours_Occurred</th>\n",
       "      <th>Reported_Year</th>\n",
       "      <th>Reported_Month</th>\n",
       "      <th>Reported_Weekday</th>\n",
       "      <th>Occurred_Day</th>\n",
       "      <th>Occurred_Weekday</th>\n",
       "      <th>Modus_Operandi_num_code</th>\n",
       "      <th>Time_Difference_Log</th>\n",
       "    </tr>\n",
       "  </thead>\n",
       "  <tbody>\n",
       "    <tr>\n",
       "      <th>0</th>\n",
       "      <td>4500    CARPENTER                    AV</td>\n",
       "      <td>34.1522</td>\n",
       "      <td>-118.3910</td>\n",
       "      <td>15</td>\n",
       "      <td>1563</td>\n",
       "      <td>1</td>\n",
       "      <td>75</td>\n",
       "      <td>M</td>\n",
       "      <td>W</td>\n",
       "      <td>101</td>\n",
       "      <td>...</td>\n",
       "      <td>IC</td>\n",
       "      <td>Property Crimes</td>\n",
       "      <td>18.000000</td>\n",
       "      <td>2020</td>\n",
       "      <td>3</td>\n",
       "      <td>0</td>\n",
       "      <td>6</td>\n",
       "      <td>4</td>\n",
       "      <td>1</td>\n",
       "      <td>4.290459</td>\n",
       "    </tr>\n",
       "    <tr>\n",
       "      <th>1</th>\n",
       "      <td>45TH                         ST</td>\n",
       "      <td>34.0028</td>\n",
       "      <td>-118.2391</td>\n",
       "      <td>13</td>\n",
       "      <td>1367</td>\n",
       "      <td>1</td>\n",
       "      <td>41</td>\n",
       "      <td>M</td>\n",
       "      <td>H</td>\n",
       "      <td>216</td>\n",
       "      <td>...</td>\n",
       "      <td>IC</td>\n",
       "      <td>Property Crimes</td>\n",
       "      <td>13.750000</td>\n",
       "      <td>2020</td>\n",
       "      <td>2</td>\n",
       "      <td>3</td>\n",
       "      <td>27</td>\n",
       "      <td>3</td>\n",
       "      <td>8</td>\n",
       "      <td>0.000000</td>\n",
       "    </tr>\n",
       "    <tr>\n",
       "      <th>2</th>\n",
       "      <td>600 E  MARTIN LUTHER KING JR        BL</td>\n",
       "      <td>34.0111</td>\n",
       "      <td>-118.2653</td>\n",
       "      <td>13</td>\n",
       "      <td>1343</td>\n",
       "      <td>2</td>\n",
       "      <td>67</td>\n",
       "      <td>M</td>\n",
       "      <td>B</td>\n",
       "      <td>501</td>\n",
       "      <td>...</td>\n",
       "      <td>IC</td>\n",
       "      <td>Property Crimes</td>\n",
       "      <td>6.083333</td>\n",
       "      <td>2020</td>\n",
       "      <td>8</td>\n",
       "      <td>4</td>\n",
       "      <td>21</td>\n",
       "      <td>4</td>\n",
       "      <td>2</td>\n",
       "      <td>0.000000</td>\n",
       "    </tr>\n",
       "    <tr>\n",
       "      <th>3</th>\n",
       "      <td>14900    ORO GRANDE                   ST</td>\n",
       "      <td>34.2953</td>\n",
       "      <td>-118.4590</td>\n",
       "      <td>19</td>\n",
       "      <td>1924</td>\n",
       "      <td>1</td>\n",
       "      <td>61</td>\n",
       "      <td>M</td>\n",
       "      <td>H</td>\n",
       "      <td>101</td>\n",
       "      <td>...</td>\n",
       "      <td>IC</td>\n",
       "      <td>Property Crimes</td>\n",
       "      <td>18.000000</td>\n",
       "      <td>2020</td>\n",
       "      <td>11</td>\n",
       "      <td>6</td>\n",
       "      <td>6</td>\n",
       "      <td>4</td>\n",
       "      <td>2</td>\n",
       "      <td>3.891820</td>\n",
       "    </tr>\n",
       "    <tr>\n",
       "      <th>4</th>\n",
       "      <td>7100 S  VERMONT                      AV</td>\n",
       "      <td>33.9787</td>\n",
       "      <td>-118.2918</td>\n",
       "      <td>12</td>\n",
       "      <td>1245</td>\n",
       "      <td>1</td>\n",
       "      <td>0</td>\n",
       "      <td>X</td>\n",
       "      <td>X</td>\n",
       "      <td>401</td>\n",
       "      <td>...</td>\n",
       "      <td>IC</td>\n",
       "      <td>Property Crimes</td>\n",
       "      <td>11.500000</td>\n",
       "      <td>2020</td>\n",
       "      <td>2</td>\n",
       "      <td>1</td>\n",
       "      <td>25</td>\n",
       "      <td>1</td>\n",
       "      <td>6</td>\n",
       "      <td>0.000000</td>\n",
       "    </tr>\n",
       "  </tbody>\n",
       "</table>\n",
       "<p>5 rows × 21 columns</p>\n",
       "</div>"
      ],
      "text/plain": [
       "                                   Location  Latitude  Longitude  Area_ID  \\\n",
       "0   4500    CARPENTER                    AV   34.1522  -118.3910       15   \n",
       "1           45TH                         ST   34.0028  -118.2391       13   \n",
       "2    600 E  MARTIN LUTHER KING JR        BL   34.0111  -118.2653       13   \n",
       "3  14900    ORO GRANDE                   ST   34.2953  -118.4590       19   \n",
       "4   7100 S  VERMONT                      AV   33.9787  -118.2918       12   \n",
       "\n",
       "   Reporting_District_no  Part 1-2  Victim_Age Victim_Sex Victim_Descent  \\\n",
       "0                   1563         1          75          M              W   \n",
       "1                   1367         1          41          M              H   \n",
       "2                   1343         2          67          M              B   \n",
       "3                   1924         1          61          M              H   \n",
       "4                   1245         1           0          X              X   \n",
       "\n",
       "   Premise_Code  ...  Status   Crime_Category Hours_Occurred  Reported_Year  \\\n",
       "0           101  ...      IC  Property Crimes      18.000000           2020   \n",
       "1           216  ...      IC  Property Crimes      13.750000           2020   \n",
       "2           501  ...      IC  Property Crimes       6.083333           2020   \n",
       "3           101  ...      IC  Property Crimes      18.000000           2020   \n",
       "4           401  ...      IC  Property Crimes      11.500000           2020   \n",
       "\n",
       "   Reported_Month  Reported_Weekday  Occurred_Day  Occurred_Weekday  \\\n",
       "0               3                 0             6                 4   \n",
       "1               2                 3            27                 3   \n",
       "2               8                 4            21                 4   \n",
       "3              11                 6             6                 4   \n",
       "4               2                 1            25                 1   \n",
       "\n",
       "   Modus_Operandi_num_code  Time_Difference_Log  \n",
       "0                        1             4.290459  \n",
       "1                        8             0.000000  \n",
       "2                        2             0.000000  \n",
       "3                        2             3.891820  \n",
       "4                        6             0.000000  \n",
       "\n",
       "[5 rows x 21 columns]"
      ]
     },
     "execution_count": 3,
     "metadata": {},
     "output_type": "execute_result"
    }
   ],
   "source": [
    "df.head()"
   ]
  },
  {
   "cell_type": "code",
   "execution_count": 4,
   "metadata": {},
   "outputs": [
    {
     "name": "stdout",
     "output_type": "stream",
     "text": [
      "<class 'pandas.core.frame.DataFrame'>\n",
      "RangeIndex: 19903 entries, 0 to 19902\n",
      "Data columns (total 21 columns):\n",
      " #   Column                   Non-Null Count  Dtype  \n",
      "---  ------                   --------------  -----  \n",
      " 0   Location                 19903 non-null  object \n",
      " 1   Latitude                 19903 non-null  float64\n",
      " 2   Longitude                19903 non-null  float64\n",
      " 3   Area_ID                  19903 non-null  int64  \n",
      " 4   Reporting_District_no    19903 non-null  int64  \n",
      " 5   Part 1-2                 19903 non-null  int64  \n",
      " 6   Victim_Age               19903 non-null  int64  \n",
      " 7   Victim_Sex               19903 non-null  object \n",
      " 8   Victim_Descent           19903 non-null  object \n",
      " 9   Premise_Code             19903 non-null  int64  \n",
      " 10  Weapon_Used_Code         19903 non-null  float64\n",
      " 11  Status                   19903 non-null  object \n",
      " 12  Crime_Category           19903 non-null  object \n",
      " 13  Hours_Occurred           19903 non-null  float64\n",
      " 14  Reported_Year            19903 non-null  int64  \n",
      " 15  Reported_Month           19903 non-null  int64  \n",
      " 16  Reported_Weekday         19903 non-null  int64  \n",
      " 17  Occurred_Day             19903 non-null  int64  \n",
      " 18  Occurred_Weekday         19903 non-null  int64  \n",
      " 19  Modus_Operandi_num_code  19903 non-null  int64  \n",
      " 20  Time_Difference_Log      19903 non-null  float64\n",
      "dtypes: float64(5), int64(11), object(5)\n",
      "memory usage: 3.2+ MB\n"
     ]
    }
   ],
   "source": [
    "df.info()"
   ]
  },
  {
   "cell_type": "markdown",
   "metadata": {},
   "source": [
    "### Convert already encoded labels into float"
   ]
  },
  {
   "cell_type": "code",
   "execution_count": 5,
   "metadata": {},
   "outputs": [],
   "source": [
    "encoded_features=['Area_ID','Reporting_District_no','Part 1-2','Premise_Code','Weapon_Used_Code','Modus_Operandi_num_code']\n",
    "df[encoded_features]=df[encoded_features].astype(int)"
   ]
  },
  {
   "cell_type": "markdown",
   "metadata": {},
   "source": [
    "#### Preparing X and Y variables"
   ]
  },
  {
   "cell_type": "code",
   "execution_count": 6,
   "metadata": {},
   "outputs": [],
   "source": [
    "X=df.drop('Crime_Category',axis=1)"
   ]
  },
  {
   "cell_type": "code",
   "execution_count": 7,
   "metadata": {},
   "outputs": [
    {
     "name": "stdout",
     "output_type": "stream",
     "text": [
      "<class 'pandas.core.frame.DataFrame'>\n",
      "RangeIndex: 19903 entries, 0 to 19902\n",
      "Data columns (total 20 columns):\n",
      " #   Column                   Non-Null Count  Dtype  \n",
      "---  ------                   --------------  -----  \n",
      " 0   Location                 19903 non-null  object \n",
      " 1   Latitude                 19903 non-null  float64\n",
      " 2   Longitude                19903 non-null  float64\n",
      " 3   Area_ID                  19903 non-null  int32  \n",
      " 4   Reporting_District_no    19903 non-null  int32  \n",
      " 5   Part 1-2                 19903 non-null  int32  \n",
      " 6   Victim_Age               19903 non-null  int64  \n",
      " 7   Victim_Sex               19903 non-null  object \n",
      " 8   Victim_Descent           19903 non-null  object \n",
      " 9   Premise_Code             19903 non-null  int32  \n",
      " 10  Weapon_Used_Code         19903 non-null  int32  \n",
      " 11  Status                   19903 non-null  object \n",
      " 12  Hours_Occurred           19903 non-null  float64\n",
      " 13  Reported_Year            19903 non-null  int64  \n",
      " 14  Reported_Month           19903 non-null  int64  \n",
      " 15  Reported_Weekday         19903 non-null  int64  \n",
      " 16  Occurred_Day             19903 non-null  int64  \n",
      " 17  Occurred_Weekday         19903 non-null  int64  \n",
      " 18  Modus_Operandi_num_code  19903 non-null  int32  \n",
      " 19  Time_Difference_Log      19903 non-null  float64\n",
      "dtypes: float64(4), int32(6), int64(6), object(4)\n",
      "memory usage: 2.6+ MB\n"
     ]
    }
   ],
   "source": [
    "X.info()"
   ]
  },
  {
   "cell_type": "code",
   "execution_count": 8,
   "metadata": {},
   "outputs": [
    {
     "data": {
      "text/plain": [
       "(19903, 20)"
      ]
     },
     "execution_count": 8,
     "metadata": {},
     "output_type": "execute_result"
    }
   ],
   "source": [
    "X.shape"
   ]
  },
  {
   "cell_type": "code",
   "execution_count": 9,
   "metadata": {},
   "outputs": [],
   "source": [
    "y=df['Crime_Category']"
   ]
  },
  {
   "cell_type": "code",
   "execution_count": 10,
   "metadata": {},
   "outputs": [
    {
     "data": {
      "text/plain": [
       "Crime_Category\n",
       "Property Crimes                  11626\n",
       "Violent Crimes                    4740\n",
       "Crimes against Public Order       1787\n",
       "Fraud and White-Collar Crimes     1350\n",
       "Crimes against Persons             225\n",
       "Other Crimes                       175\n",
       "Name: count, dtype: int64"
      ]
     },
     "execution_count": 10,
     "metadata": {},
     "output_type": "execute_result"
    }
   ],
   "source": [
    "y.value_counts()"
   ]
  },
  {
   "cell_type": "code",
   "execution_count": 11,
   "metadata": {},
   "outputs": [],
   "source": [
    "crime_category=y.value_counts().index.tolist()\n",
    "labels_map={}\n",
    "for i in range(len(crime_category)):\n",
    "    labels_map[crime_category[i]]=i\n",
    "y=y.map(labels_map)"
   ]
  },
  {
   "cell_type": "code",
   "execution_count": 12,
   "metadata": {},
   "outputs": [
    {
     "data": {
      "text/plain": [
       "0    0\n",
       "1    0\n",
       "2    0\n",
       "3    0\n",
       "4    0\n",
       "Name: Crime_Category, dtype: int64"
      ]
     },
     "execution_count": 12,
     "metadata": {},
     "output_type": "execute_result"
    }
   ],
   "source": [
    "y.head()"
   ]
  },
  {
   "cell_type": "markdown",
   "metadata": {},
   "source": []
  },
  {
   "cell_type": "code",
   "execution_count": 13,
   "metadata": {},
   "outputs": [
    {
     "name": "stdout",
     "output_type": "stream",
     "text": [
      "Categorical Features :['Location', 'Victim_Sex', 'Victim_Descent', 'Status'] \n",
      "\n",
      " Numerical Features:['Latitude', 'Longitude', 'Area_ID', 'Reporting_District_no', 'Part 1-2', 'Victim_Age', 'Premise_Code', 'Weapon_Used_Code', 'Hours_Occurred', 'Reported_Year', 'Reported_Month', 'Reported_Weekday', 'Occurred_Day', 'Occurred_Weekday', 'Modus_Operandi_num_code', 'Time_Difference_Log']\n"
     ]
    }
   ],
   "source": [
    "num_features=X.select_dtypes(include='number').columns.tolist()\n",
    "cat_features=X.select_dtypes(include='object').columns.tolist()\n",
    "print(f'Categorical Features :{cat_features} \\n\\n Numerical Features:{num_features}')\n",
    "\n",
    "numeric_transformer=StandardScaler()\n",
    "categorical_transformer=OneHotEncoder()\n",
    "\n",
    "preprocessor=ColumnTransformer(\n",
    "    transformers=\n",
    "    [\n",
    "        ('OneHotEncoder',categorical_transformer,cat_features),\n",
    "        ('StandardScaler',numeric_transformer,num_features)\n",
    "    ]\n",
    ")\n",
    "X=preprocessor.fit_transform(X)"
   ]
  },
  {
   "cell_type": "code",
   "execution_count": 14,
   "metadata": {},
   "outputs": [
    {
     "data": {
      "text/plain": [
       "(19903, 12417)"
      ]
     },
     "execution_count": 14,
     "metadata": {},
     "output_type": "execute_result"
    }
   ],
   "source": [
    "X.shape"
   ]
  },
  {
   "cell_type": "code",
   "execution_count": 15,
   "metadata": {},
   "outputs": [
    {
     "data": {
      "text/plain": [
       "((15922, 12417), (3981, 12417))"
      ]
     },
     "execution_count": 15,
     "metadata": {},
     "output_type": "execute_result"
    }
   ],
   "source": [
    "X_train,X_test,y_train,y_test=train_test_split(X,y.values,test_size=0.2,random_state=42)\n",
    "X_train.shape,X_test.shape"
   ]
  },
  {
   "cell_type": "markdown",
   "metadata": {},
   "source": []
  },
  {
   "cell_type": "code",
   "execution_count": 16,
   "metadata": {},
   "outputs": [],
   "source": [
    "def evaluate_model(true, predicted):\n",
    "    accuracy = accuracy_score(true, predicted)\n",
    "    precision = precision_score(true, predicted, average='weighted')\n",
    "    recall = recall_score(true, predicted, average='weighted')\n",
    "    f1 = f1_score(true, predicted, average='weighted')\n",
    "    cm = confusion_matrix(true, predicted)\n",
    "    \n",
    "    return accuracy, precision, recall, f1, cm"
   ]
  },
  {
   "cell_type": "markdown",
   "metadata": {},
   "source": []
  },
  {
   "cell_type": "code",
   "execution_count": 17,
   "metadata": {},
   "outputs": [
    {
     "name": "stdout",
     "output_type": "stream",
     "text": [
      "LogisticRegression\n",
      "Model performance for Training set\n",
      "- Accuracy Score : 0.8632\n",
      "- Precision Score: 0.8658\n",
      "- Recall Score : 0.8632\n",
      "- f1 score: 0.8504\n",
      "Confusion matrix \n",
      " \n",
      "[[8768  415   40   53    3    0]\n",
      " [ 401 3389   14   15    2    0]\n",
      " [ 365  425  538   89    2    0]\n",
      " [ 102    6   15  959    0    0]\n",
      " [  27   62    5    8   85    0]\n",
      " [  89   10   14   16    0    5]]\n",
      "----------------------------------\n",
      "Model performance for Test set\n",
      "- Accuracy Score : 0.7975\n",
      "- Precision Score: 0.7835\n",
      "- Recall Score : 0.7975\n",
      "- f1 score: 0.7773\n",
      "Confusion matrix \n",
      " \n",
      "[[2124  137   43   41    2    0]\n",
      " [ 130  770   14    1    4    0]\n",
      " [ 144  121   78   24    1    0]\n",
      " [  61    3    7  195    2    0]\n",
      " [   7   22    1    1    7    0]\n",
      " [  26    5    2    7    0    1]]\n",
      "===================================\n",
      "\n",
      "\n",
      "KNeighborsClassifier\n",
      "Model performance for Training set\n",
      "- Accuracy Score : 0.8453\n",
      "- Precision Score: 0.8371\n",
      "- Recall Score : 0.8453\n",
      "- f1 score: 0.8295\n",
      "Confusion matrix \n",
      " \n",
      "[[8747  343   85  103    0    1]\n",
      " [ 408 3372   23   17    1    0]\n",
      " [ 424  412  483   97    3    0]\n",
      " [ 167    8   82  824    0    1]\n",
      " [  31  101   16   12   27    0]\n",
      " [  81   10   24   13    0    6]]\n",
      "----------------------------------\n",
      "Model performance for Test set\n",
      "- Accuracy Score : 0.7943\n",
      "- Precision Score: 0.7677\n",
      "- Recall Score : 0.7943\n",
      "- f1 score: 0.7746\n",
      "Confusion matrix \n",
      " \n",
      "[[2131  119   53   44    0    0]\n",
      " [ 153  746   13    5    2    0]\n",
      " [ 130  116   90   32    0    0]\n",
      " [  55    3   16  194    0    0]\n",
      " [   6   25    5    1    1    0]\n",
      " [  30    4    2    5    0    0]]\n",
      "===================================\n",
      "\n",
      "\n",
      "DecisionTreeClassifier\n",
      "Model performance for Training set\n",
      "- Accuracy Score : 1.0000\n",
      "- Precision Score: 1.0000\n",
      "- Recall Score : 1.0000\n",
      "- f1 score: 1.0000\n",
      "Confusion matrix \n",
      " \n",
      "[[9279    0    0    0    0    0]\n",
      " [   0 3821    0    0    0    0]\n",
      " [   0    0 1419    0    0    0]\n",
      " [   0    0    0 1082    0    0]\n",
      " [   0    0    0    0  187    0]\n",
      " [   0    0    0    0    0  134]]\n",
      "----------------------------------\n",
      "Model performance for Test set\n",
      "- Accuracy Score : 0.8352\n",
      "- Precision Score: 0.8319\n",
      "- Recall Score : 0.8352\n",
      "- f1 score: 0.8334\n",
      "Confusion matrix \n",
      " \n",
      "[[2108  111   68   48    3    9]\n",
      " [  92  783   33    0   10    1]\n",
      " [  76   37  217   29    2    7]\n",
      " [  35    1   29  198    2    3]\n",
      " [   6   13    2    1   16    0]\n",
      " [  19    1   11    7    0    3]]\n",
      "===================================\n",
      "\n",
      "\n",
      "RandomForestClassifier\n",
      "Model performance for Training set\n",
      "- Accuracy Score : 1.0000\n",
      "- Precision Score: 1.0000\n",
      "- Recall Score : 1.0000\n",
      "- f1 score: 1.0000\n",
      "Confusion matrix \n",
      " \n",
      "[[9279    0    0    0    0    0]\n",
      " [   0 3821    0    0    0    0]\n",
      " [   0    0 1419    0    0    0]\n",
      " [   0    0    0 1082    0    0]\n",
      " [   0    0    0    0  187    0]\n",
      " [   0    0    0    0    0  134]]\n",
      "----------------------------------\n",
      "Model performance for Test set\n",
      "- Accuracy Score : 0.8151\n",
      "- Precision Score: 0.8024\n",
      "- Recall Score : 0.8151\n",
      "- f1 score: 0.7809\n",
      "Confusion matrix \n",
      " \n",
      "[[2207  120    8   12    0    0]\n",
      " [  88  831    0    0    0    0]\n",
      " [ 157  148   49   14    0    0]\n",
      " [ 106    4    0  158    0    0]\n",
      " [   3   32    3    0    0    0]\n",
      " [  36    4    0    1    0    0]]\n",
      "===================================\n",
      "\n",
      "\n",
      "AdaBoostClassifier\n",
      "Model performance for Training set\n",
      "- Accuracy Score : 0.5600\n",
      "- Precision Score: 0.7606\n",
      "- Recall Score : 0.5600\n",
      "- f1 score: 0.6031\n",
      "Confusion matrix \n",
      " \n",
      "[[4432  706   53 1037 3021   30]\n",
      " [ 434 3229    6   13  137    2]\n",
      " [ 217  391  206  554   18   33]\n",
      " [  35    1   15 1010    1   20]\n",
      " [  19  123    7    6   32    0]\n",
      " [  36    7   13   71    0    7]]\n",
      "----------------------------------\n",
      "Model performance for Test set\n",
      "- Accuracy Score : 0.5571\n",
      "- Precision Score: 0.7753\n",
      "- Recall Score : 0.5571\n",
      "- f1 score: 0.5996\n",
      "Confusion matrix \n",
      " \n",
      "[[1099  172    6  265  795   10]\n",
      " [  69  820    2    1   27    0]\n",
      " [  58   97   43  158    4    8]\n",
      " [  11    0    3  253    0    1]\n",
      " [   4   26    3    2    3    0]\n",
      " [  11    3    5   22    0    0]]\n",
      "===================================\n",
      "\n",
      "\n",
      "GaussianNB\n",
      "Model performance for Training set\n",
      "- Accuracy Score : 0.7909\n",
      "- Precision Score: 0.8555\n",
      "- Recall Score : 0.7909\n",
      "- f1 score: 0.8016\n",
      "Confusion matrix \n",
      " \n",
      "[[6762 1507  821   72   89   28]\n",
      " [   0 3133  428  132   61   67]\n",
      " [   0    0 1318   51   26   24]\n",
      " [   0    0    0 1061    8   13]\n",
      " [   0    0    0    0  185    2]\n",
      " [   0    0    0    0    0  134]]\n",
      "----------------------------------\n",
      "Model performance for Test set\n",
      "- Accuracy Score : 0.2070\n",
      "- Precision Score: 0.4935\n",
      "- Recall Score : 0.2070\n",
      "- f1 score: 0.2749\n",
      "Confusion matrix \n",
      " \n",
      "[[ 507  412  193   26 1003  206]\n",
      " [ 146  211   92   36  131  303]\n",
      " [  56   64   44   17   29  158]\n",
      " [  40   25   13   31    2  157]\n",
      " [   4    9    2    1    4   18]\n",
      " [   2    4    6    2    0   27]]\n",
      "===================================\n",
      "\n",
      "\n",
      "XGBClassifier\n",
      "Model performance for Training set\n",
      "- Accuracy Score : 0.9796\n",
      "- Precision Score: 0.9798\n",
      "- Recall Score : 0.9796\n",
      "- f1 score: 0.9796\n",
      "Confusion matrix \n",
      " \n",
      "[[9113  118   27   21    0    0]\n",
      " [  40 3779    2    0    0    0]\n",
      " [  44   33 1320   22    0    0]\n",
      " [  11    0    3 1068    0    0]\n",
      " [   0    0    0    0  187    0]\n",
      " [   1    0    2    1    0  130]]\n",
      "----------------------------------\n",
      "Model performance for Test set\n",
      "- Accuracy Score : 0.8686\n",
      "- Precision Score: 0.8617\n",
      "- Recall Score : 0.8686\n",
      "- f1 score: 0.8636\n",
      "Confusion matrix \n",
      " \n",
      "[[2162  105   44   33    0    3]\n",
      " [  63  831   16    0    9    0]\n",
      " [  68   47  230   21    2    0]\n",
      " [  30    0   26  212    0    0]\n",
      " [   2   12    2    0   22    0]\n",
      " [  23    1    9    7    0    1]]\n",
      "===================================\n",
      "\n",
      "\n",
      "CatBoostClassifier\n",
      "Model performance for Training set\n",
      "- Accuracy Score : 0.8662\n",
      "- Precision Score: 0.8574\n",
      "- Recall Score : 0.8662\n",
      "- f1 score: 0.8585\n",
      "Confusion matrix \n",
      " \n",
      "[[8532  486  143  117    1    0]\n",
      " [ 198 3570   27   16   10    0]\n",
      " [ 313  241  771   92    2    0]\n",
      " [ 169    0   62  850    1    0]\n",
      " [  20   81    9    8   69    0]\n",
      " [  90    3   26   14    1    0]]\n",
      "----------------------------------\n",
      "Model performance for Test set\n",
      "- Accuracy Score : 0.8666\n",
      "- Precision Score: 0.8558\n",
      "- Recall Score : 0.8666\n",
      "- f1 score: 0.8588\n",
      "Confusion matrix \n",
      " \n",
      "[[2161  122   35   29    0    0]\n",
      " [  51  851   10    1    6    0]\n",
      " [  85   53  215   15    0    0]\n",
      " [  39    0   19  210    0    0]\n",
      " [   4   18    2    1   13    0]\n",
      " [  28    1    5    7    0    0]]\n",
      "===================================\n",
      "\n",
      "\n",
      "LGBMClassifier\n",
      "Model performance for Training set\n",
      "- Accuracy Score : 0.9804\n",
      "- Precision Score: 0.9806\n",
      "- Recall Score : 0.9804\n",
      "- f1 score: 0.9804\n",
      "Confusion matrix \n",
      " \n",
      "[[9112  119   31   17    0    0]\n",
      " [  37 3776    8    0    0    0]\n",
      " [  38   38 1323   20    0    0]\n",
      " [   4    0    0 1078    0    0]\n",
      " [   0    0    0    0  187    0]\n",
      " [   0    0    0    0    0  134]]\n",
      "----------------------------------\n",
      "Model performance for Test set\n",
      "- Accuracy Score : 0.8742\n",
      "- Precision Score: 0.8691\n",
      "- Recall Score : 0.8742\n",
      "- f1 score: 0.8702\n",
      "Confusion matrix \n",
      " \n",
      "[[2156  109   45   35    0    2]\n",
      " [  52  844   16    0    7    0]\n",
      " [  57   41  242   24    2    2]\n",
      " [  31    0   23  213    0    1]\n",
      " [   3    9    3    0   23    0]\n",
      " [  22    1    8    8    0    2]]\n",
      "===================================\n",
      "\n",
      "\n"
     ]
    }
   ],
   "source": [
    "\n",
    "models = {\n",
    "    'LogisticRegression': LogisticRegression(n_jobs=-1),\n",
    "    'KNeighborsClassifier': KNeighborsClassifier(n_jobs=-1),\n",
    "    'DecisionTreeClassifier': DecisionTreeClassifier(),\n",
    "    'RandomForestClassifier': RandomForestClassifier(n_jobs=-1),\n",
    "    'AdaBoostClassifier': AdaBoostClassifier(),\n",
    "    'GaussianNB': GaussianNB(),\n",
    "    'XGBClassifier': XGBClassifier(n_jobs=-1),\n",
    "    'CatBoostClassifier': CatBoostClassifier(verbose=False),\n",
    "    'LGBMClassifier': LGBMClassifier(n_jobs=-1)\n",
    "}\n",
    "\n",
    "# List to store model names and accuracy scores\n",
    "model_list = []\n",
    "accuracy_score_list = []\n",
    "precision_score_list = []\n",
    "recall_score_list = []\n",
    "f1_score_list = []\n",
    "\n",
    "# Loop through each model in the dictionary\n",
    "for model_name, model in models.items():\n",
    "    print(model_name)\n",
    "    \n",
    "    if model_name in ['GaussianNB']:\n",
    "        # Convert sparse matrix to dense using Truncated SVD for models that require dense arrays\n",
    "        X_train_dense = X_train.toarray()\n",
    "        X_test_dense =  X_test.toarray()\n",
    "        model.fit(X_train_dense, y_train)\n",
    "\n",
    "        # Predict on the dense training and test data\n",
    "        y_train_pred = model.predict(X_train_dense)\n",
    "        y_test_pred = model.predict(X_test_dense)\n",
    "    else:\n",
    "        # Use sparse matrices for models that can handle them\n",
    "        model.fit(X_train, y_train)\n",
    "\n",
    "        # Predict on the sparse training and test data\n",
    "        y_train_pred = model.predict(X_train)\n",
    "        y_test_pred = model.predict(X_test)\n",
    "\n",
    "    # Evaluate model performance\n",
    "    accuracy_train, precision_train, recall_train, f1_train, cm_train = evaluate_model(y_train, y_train_pred)\n",
    "    accuracy_test, precision_test, recall_test, f1_test, cm_test = evaluate_model(y_test, y_test_pred)\n",
    "\n",
    "    # Print model performance\n",
    "    print('Model performance for Training set')\n",
    "    print(\"- Accuracy Score : {:.4f}\".format(accuracy_train))\n",
    "    print(\"- Precision Score: {:.4f}\".format(precision_train))\n",
    "    print(\"- Recall Score : {:.4f}\".format(recall_train))\n",
    "    print(\"- f1 score: {:.4f}\".format(f1_train))\n",
    "    print(f\"Confusion matrix \\n \\n{cm_train}\")\n",
    "\n",
    "    print('----------------------------------')\n",
    "\n",
    "    print('Model performance for Test set')\n",
    "    print(\"- Accuracy Score : {:.4f}\".format(accuracy_test))\n",
    "    print(\"- Precision Score: {:.4f}\".format(precision_test))\n",
    "    print(\"- Recall Score : {:.4f}\".format(recall_test))\n",
    "    print(\"- f1 score: {:.4f}\".format(f1_test))\n",
    "    print(f\"Confusion matrix \\n \\n{cm_test}\")\n",
    "\n",
    "    # Append results to lists\n",
    "    model_list.append(model_name)\n",
    "    accuracy_score_list.append(accuracy_test)\n",
    "    precision_score_list.append(precision_test)\n",
    "    recall_score_list.append(recall_test)\n",
    "    f1_score_list.append(f1_test)\n",
    "\n",
    "    print('='*35)\n",
    "    print('\\n')\n"
   ]
  },
  {
   "cell_type": "code",
   "execution_count": 18,
   "metadata": {},
   "outputs": [
    {
     "data": {
      "text/html": [
       "<div>\n",
       "<style scoped>\n",
       "    .dataframe tbody tr th:only-of-type {\n",
       "        vertical-align: middle;\n",
       "    }\n",
       "\n",
       "    .dataframe tbody tr th {\n",
       "        vertical-align: top;\n",
       "    }\n",
       "\n",
       "    .dataframe thead th {\n",
       "        text-align: right;\n",
       "    }\n",
       "</style>\n",
       "<table border=\"1\" class=\"dataframe\">\n",
       "  <thead>\n",
       "    <tr style=\"text-align: right;\">\n",
       "      <th></th>\n",
       "      <th>Model Name</th>\n",
       "      <th>accuracy score</th>\n",
       "      <th>precision score</th>\n",
       "      <th>recall score</th>\n",
       "      <th>f1 score</th>\n",
       "    </tr>\n",
       "  </thead>\n",
       "  <tbody>\n",
       "    <tr>\n",
       "      <th>8</th>\n",
       "      <td>LGBMClassifier</td>\n",
       "      <td>0.874152</td>\n",
       "      <td>0.869092</td>\n",
       "      <td>0.874152</td>\n",
       "      <td>0.870150</td>\n",
       "    </tr>\n",
       "    <tr>\n",
       "      <th>6</th>\n",
       "      <td>XGBClassifier</td>\n",
       "      <td>0.868626</td>\n",
       "      <td>0.861686</td>\n",
       "      <td>0.868626</td>\n",
       "      <td>0.863629</td>\n",
       "    </tr>\n",
       "    <tr>\n",
       "      <th>7</th>\n",
       "      <td>CatBoostClassifier</td>\n",
       "      <td>0.866616</td>\n",
       "      <td>0.855781</td>\n",
       "      <td>0.866616</td>\n",
       "      <td>0.858841</td>\n",
       "    </tr>\n",
       "    <tr>\n",
       "      <th>2</th>\n",
       "      <td>DecisionTreeClassifier</td>\n",
       "      <td>0.835217</td>\n",
       "      <td>0.831871</td>\n",
       "      <td>0.835217</td>\n",
       "      <td>0.833354</td>\n",
       "    </tr>\n",
       "    <tr>\n",
       "      <th>3</th>\n",
       "      <td>RandomForestClassifier</td>\n",
       "      <td>0.815122</td>\n",
       "      <td>0.802425</td>\n",
       "      <td>0.815122</td>\n",
       "      <td>0.780904</td>\n",
       "    </tr>\n",
       "    <tr>\n",
       "      <th>0</th>\n",
       "      <td>LogisticRegression</td>\n",
       "      <td>0.797538</td>\n",
       "      <td>0.783499</td>\n",
       "      <td>0.797538</td>\n",
       "      <td>0.777333</td>\n",
       "    </tr>\n",
       "    <tr>\n",
       "      <th>1</th>\n",
       "      <td>KNeighborsClassifier</td>\n",
       "      <td>0.794273</td>\n",
       "      <td>0.767668</td>\n",
       "      <td>0.794273</td>\n",
       "      <td>0.774596</td>\n",
       "    </tr>\n",
       "    <tr>\n",
       "      <th>4</th>\n",
       "      <td>AdaBoostClassifier</td>\n",
       "      <td>0.557146</td>\n",
       "      <td>0.775262</td>\n",
       "      <td>0.557146</td>\n",
       "      <td>0.599617</td>\n",
       "    </tr>\n",
       "    <tr>\n",
       "      <th>5</th>\n",
       "      <td>GaussianNB</td>\n",
       "      <td>0.206983</td>\n",
       "      <td>0.493523</td>\n",
       "      <td>0.206983</td>\n",
       "      <td>0.274931</td>\n",
       "    </tr>\n",
       "  </tbody>\n",
       "</table>\n",
       "</div>"
      ],
      "text/plain": [
       "               Model Name  accuracy score  precision score  recall score  \\\n",
       "8          LGBMClassifier        0.874152         0.869092      0.874152   \n",
       "6           XGBClassifier        0.868626         0.861686      0.868626   \n",
       "7      CatBoostClassifier        0.866616         0.855781      0.866616   \n",
       "2  DecisionTreeClassifier        0.835217         0.831871      0.835217   \n",
       "3  RandomForestClassifier        0.815122         0.802425      0.815122   \n",
       "0      LogisticRegression        0.797538         0.783499      0.797538   \n",
       "1    KNeighborsClassifier        0.794273         0.767668      0.794273   \n",
       "4      AdaBoostClassifier        0.557146         0.775262      0.557146   \n",
       "5              GaussianNB        0.206983         0.493523      0.206983   \n",
       "\n",
       "   f1 score  \n",
       "8  0.870150  \n",
       "6  0.863629  \n",
       "7  0.858841  \n",
       "2  0.833354  \n",
       "3  0.780904  \n",
       "0  0.777333  \n",
       "1  0.774596  \n",
       "4  0.599617  \n",
       "5  0.274931  "
      ]
     },
     "execution_count": 18,
     "metadata": {},
     "output_type": "execute_result"
    }
   ],
   "source": [
    "pd.DataFrame(list(zip(model_list,accuracy_score_list,precision_score_list,recall_score_list,f1_score_list )), columns=['Model Name', 'accuracy score','precision score','recall score','f1 score']).sort_values(by=['accuracy score', 'precision score', 'recall score', 'f1 score'],ascending=False)"
   ]
  },
  {
   "cell_type": "markdown",
   "metadata": {},
   "source": [
    "# LGBMClassifier"
   ]
  },
  {
   "cell_type": "code",
   "execution_count": 19,
   "metadata": {},
   "outputs": [],
   "source": [
    "LGB=LGBMClassifier()\n",
    "LGB.fit(X_train,y_train)\n",
    "# Predict classes and probabilities\n",
    "y_pred = LGB.predict(X_test)\n",
    "y_proba = LGB.predict_proba(X_test)\n"
   ]
  },
  {
   "cell_type": "code",
   "execution_count": 20,
   "metadata": {},
   "outputs": [
    {
     "data": {
      "image/png": "[encoded data removed]",
      "text/plain": [
       "<Figure size 640x480 with 1 Axes>"
      ]
     },
     "metadata": {},
     "output_type": "display_data"
    }
   ],
   "source": [
    "from sklearn.metrics import roc_curve, auc\n",
    "from sklearn.preprocessing import label_binarize\n",
    "\n",
    "# Binarize the true labels\n",
    "y_test_bin = label_binarize(y_test, classes=[0, 1, 2, 3, 4, 5])\n",
    "n_classes = y_test_bin.shape[1]\n",
    "\n",
    "# Compute ROC curve and AUC for each class\n",
    "fpr = {}\n",
    "tpr = {}\n",
    "roc_auc = {}\n",
    "\n",
    "for i in range(n_classes):\n",
    "    fpr[i], tpr[i], _ = roc_curve(y_test_bin[:, i], y_proba[:, i])\n",
    "    roc_auc[i] = auc(fpr[i], tpr[i])\n",
    "\n",
    "# Plot ROC curve for each class\n",
    "plt.figure()\n",
    "colors = ['blue', 'green', 'red', 'cyan', 'magenta', 'yellow']\n",
    "for i in range(n_classes):\n",
    "    plt.plot(fpr[i], tpr[i], color=colors[i], lw=2, label=f'Class {i} (AUC = {roc_auc[i]:.2f})')\n",
    "\n",
    "plt.plot([0, 1], [0, 1], color='gray', linestyle='--')\n",
    "plt.xlim([0.0, 1.0])\n",
    "plt.ylim([0.0, 1.05])\n",
    "plt.xlabel('False Positive Rate')\n",
    "plt.ylabel('True Positive Rate')\n",
    "plt.title('ROC Curve for Multi-Class Classification')\n",
    "plt.legend(loc='lower right')\n",
    "plt.show()\n"
   ]
  },
  {
   "cell_type": "code",
   "execution_count": 21,
   "metadata": {},
   "outputs": [
    {
     "name": "stdout",
     "output_type": "stream",
     "text": [
      "Classification Report:\n",
      "              precision    recall  f1-score   support\n",
      "\n",
      "     Class 0       0.93      0.92      0.92      2347\n",
      "     Class 1       0.84      0.92      0.88       919\n",
      "     Class 2       0.72      0.66      0.69       368\n",
      "     Class 3       0.76      0.79      0.78       268\n",
      "     Class 4       0.72      0.61      0.66        38\n",
      "     Class 5       0.29      0.05      0.08        41\n",
      "\n",
      "    accuracy                           0.87      3981\n",
      "   macro avg       0.71      0.66      0.67      3981\n",
      "weighted avg       0.87      0.87      0.87      3981\n",
      "\n"
     ]
    }
   ],
   "source": [
    "from sklearn.metrics import classification_report\n",
    "\n",
    "# Print classification report\n",
    "print(\"Classification Report:\")\n",
    "print(classification_report(y_test, y_pred, target_names=[f'Class {i}' for i in range(6)]))\n"
   ]
  },
  {
   "cell_type": "markdown",
   "metadata": {},
   "source": [
    "### XGBClassifier"
   ]
  },
  {
   "cell_type": "code",
   "execution_count": 22,
   "metadata": {},
   "outputs": [],
   "source": [
    "XGB=XGBClassifier(n_jobs=-1)\n",
    "XGB.fit(X_train,y_train)\n",
    "# Predict classes and probabilities\n",
    "y_pred = XGB.predict(X_test)\n",
    "y_proba = XGB.predict_proba(X_test)"
   ]
  },
  {
   "cell_type": "code",
   "execution_count": 23,
   "metadata": {},
   "outputs": [
    {
     "data": {
      "image/png": "[encoded data removed]",
      "text/plain": [
       "<Figure size 640x480 with 1 Axes>"
      ]
     },
     "metadata": {},
     "output_type": "display_data"
    }
   ],
   "source": [
    "# Binarize the true labels\n",
    "y_test_bin = label_binarize(y_test, classes=[0, 1, 2, 3, 4, 5])\n",
    "n_classes = y_test_bin.shape[1]\n",
    "\n",
    "# Compute ROC curve and AUC for each class\n",
    "fpr = {}\n",
    "tpr = {}\n",
    "roc_auc = {}\n",
    "\n",
    "for i in range(n_classes):\n",
    "    fpr[i], tpr[i], _ = roc_curve(y_test_bin[:, i], y_proba[:, i])\n",
    "    roc_auc[i] = auc(fpr[i], tpr[i])\n",
    "\n",
    "# Plot ROC curve for each class\n",
    "plt.figure()\n",
    "colors = ['blue', 'green', 'red', 'cyan', 'magenta', 'yellow']\n",
    "for i in range(n_classes):\n",
    "    plt.plot(fpr[i], tpr[i], color=colors[i], lw=2, label=f'Class {i} (AUC = {roc_auc[i]:.2f})')\n",
    "\n",
    "plt.plot([0, 1], [0, 1], color='gray', linestyle='--')\n",
    "plt.xlim([0.0, 1.0])\n",
    "plt.ylim([0.0, 1.05])\n",
    "plt.xlabel('False Positive Rate')\n",
    "plt.ylabel('True Positive Rate')\n",
    "plt.title('ROC Curve for Multi-Class Classification')\n",
    "plt.legend(loc='lower right')\n",
    "plt.show()\n"
   ]
  },
  {
   "cell_type": "code",
   "execution_count": 24,
   "metadata": {},
   "outputs": [
    {
     "name": "stdout",
     "output_type": "stream",
     "text": [
      "Classification Report:\n",
      "              precision    recall  f1-score   support\n",
      "\n",
      "     Class 0       0.92      0.92      0.92      2347\n",
      "     Class 1       0.83      0.90      0.87       919\n",
      "     Class 2       0.70      0.62      0.66       368\n",
      "     Class 3       0.78      0.79      0.78       268\n",
      "     Class 4       0.67      0.58      0.62        38\n",
      "     Class 5       0.25      0.02      0.04        41\n",
      "\n",
      "    accuracy                           0.87      3981\n",
      "   macro avg       0.69      0.64      0.65      3981\n",
      "weighted avg       0.86      0.87      0.86      3981\n",
      "\n"
     ]
    }
   ],
   "source": [
    "# Print classification report\n",
    "print(\"Classification Report:\")\n",
    "print(classification_report(y_test, y_pred, target_names=[f'Class {i}' for i in range(6)]))"
   ]
  },
  {
   "cell_type": "markdown",
   "metadata": {},
   "source": [
    "### CatBoostClassifier"
   ]
  },
  {
   "cell_type": "code",
   "execution_count": 25,
   "metadata": {},
   "outputs": [],
   "source": [
    "CAT=CatBoostClassifier(verbose=False)\n",
    "CAT.fit(X_train,y_train)\n",
    "# Predict classes and probabilities\n",
    "y_pred = CAT.predict(X_test)\n",
    "y_proba = CAT.predict_proba(X_test)"
   ]
  },
  {
   "cell_type": "code",
   "execution_count": 26,
   "metadata": {},
   "outputs": [
    {
     "data": {
      "image/png": "[encoded data removed]",
      "text/plain": [
       "<Figure size 640x480 with 1 Axes>"
      ]
     },
     "metadata": {},
     "output_type": "display_data"
    }
   ],
   "source": [
    "# Binarize the true labels\n",
    "y_test_bin = label_binarize(y_test, classes=[0, 1, 2, 3, 4, 5])\n",
    "n_classes = y_test_bin.shape[1]\n",
    "\n",
    "# Compute ROC curve and AUC for each class\n",
    "fpr = {}\n",
    "tpr = {}\n",
    "roc_auc = {}\n",
    "\n",
    "for i in range(n_classes):\n",
    "    fpr[i], tpr[i], _ = roc_curve(y_test_bin[:, i], y_proba[:, i])\n",
    "    roc_auc[i] = auc(fpr[i], tpr[i])\n",
    "\n",
    "# Plot ROC curve for each class\n",
    "plt.figure()\n",
    "colors = ['blue', 'green', 'red', 'cyan', 'magenta', 'yellow']\n",
    "for i in range(n_classes):\n",
    "    plt.plot(fpr[i], tpr[i], color=colors[i], lw=2, label=f'Class {i} (AUC = {roc_auc[i]:.2f})')\n",
    "\n",
    "plt.plot([0, 1], [0, 1], color='gray', linestyle='--')\n",
    "plt.xlim([0.0, 1.0])\n",
    "plt.ylim([0.0, 1.05])\n",
    "plt.xlabel('False Positive Rate')\n",
    "plt.ylabel('True Positive Rate')\n",
    "plt.title('ROC Curve for Multi-Class Classification')\n",
    "plt.legend(loc='lower right')\n",
    "plt.show()\n"
   ]
  },
  {
   "cell_type": "code",
   "execution_count": 27,
   "metadata": {},
   "outputs": [
    {
     "name": "stdout",
     "output_type": "stream",
     "text": [
      "Classification Report:\n",
      "              precision    recall  f1-score   support\n",
      "\n",
      "     Class 0       0.91      0.92      0.92      2347\n",
      "     Class 1       0.81      0.93      0.87       919\n",
      "     Class 2       0.75      0.58      0.66       368\n",
      "     Class 3       0.80      0.78      0.79       268\n",
      "     Class 4       0.68      0.34      0.46        38\n",
      "     Class 5       0.00      0.00      0.00        41\n",
      "\n",
      "    accuracy                           0.87      3981\n",
      "   macro avg       0.66      0.59      0.61      3981\n",
      "weighted avg       0.86      0.87      0.86      3981\n",
      "\n"
     ]
    }
   ],
   "source": [
    "# Print classification report\n",
    "print(\"Classification Report:\")\n",
    "print(classification_report(y_test, y_pred, target_names=[f'Class {i}' for i in range(6)]))"
   ]
  }
 ],
 "metadata": {
  "kernelspec": {
   "display_name": "venv",
   "language": "python",
   "name": "python3"
  },
  "language_info": {
   "codemirror_mode": {
    "name": "ipython",
    "version": 3
   },
   "file_extension": ".py",
   "mimetype": "text/x-python",
   "name": "python",
   "nbconvert_exporter": "python",
   "pygments_lexer": "ipython3",
   "version": "3.10.4"
  }
 },
 "nbformat": 4,
 "nbformat_minor": 2
}
